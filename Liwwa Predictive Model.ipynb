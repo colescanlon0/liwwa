{
 "cells": [
  {
   "cell_type": "code",
   "execution_count": 1,
   "metadata": {
    "collapsed": true
   },
   "outputs": [],
   "source": [
    "import numpy as np\n",
    "import pandas as pd"
   ]
  },
  {
   "cell_type": "markdown",
   "metadata": {},
   "source": [
    "<h1><center>LIWWA PREDICTIVE MODEL</center></h1> \n",
    "<h3><center>Luke Heine, Cole Scanlon</center></h3> "
   ]
  },
  {
   "cell_type": "markdown",
   "metadata": {
    "collapsed": true
   },
   "source": [
    "# Project Specs\n",
    "____________________________"
   ]
  },
  {
   "cell_type": "markdown",
   "metadata": {},
   "source": [
    "##### Project Description\n",
    "Build a predictive model of the likelihood that a borrower application gets completed (meaning the application is finished and all required documents are submitted). We’re trying to predict the probability that a given user will have an associated ticket event signifying that his/her application was completed.  \n",
    "\n",
    "\n",
    "##### Technology\n",
    "First a word on our data science stack. We have a reasonably complete scientific python setup on production, with scipy, numpy, pandas, scikit-learn and ipython. We can also add other libraries if you need them, especially if they’re available through pip. \n",
    "Our business database is MariaDB/MySQL which we access on production code through SQLAlchemy (slightly modified to integrate nicely with pandas).\n",
    "Our servers run Linux (Debian) and our developers work on Linux virtual machines (virtualbox) on their laptops (which are all Mac/OSX),. You could either get similar set-ups or work on your own machines, but if you want to work directly with production code we’ll need to set you up with the former.\n",
    "I think for this particular project some knowledge of MySQL will be very very helpful, as I will explain below. If you are not familiar with SQL or MySQL from before it might be valuable to do some introductory reading here.\n",
    "\n",
    "##### Data\n",
    "So, the structure of the data: we have a so-called relational database where data is distributed over a number of different tables. When you arrive in Amman we’ll give you access to our VPN and you will be able to query this database directly using MySQL. As relates to the borrower application, the rough structure of the relevant tables is as follows:\n",
    "Each borrower is associated with a row in a\n",
    "\n",
    "(1) user table \n",
    "which contains basic information about the individual. Users may have one or more businesses associated with them, stored in a \n",
    "\n",
    "(2) business table. \n",
    "Each business may have one ore more loan application associated with it, stored in a \n",
    "\n",
    "(3) funding campaigns table. \n",
    "Campaigns also have information about the purpose of the loan stored in a somewhat confusingly names \n",
    "\n",
    "(4) asset table.\n",
    "Each funding campaign also has an associated ticket which we store in \n",
    "\n",
    "(5) tickets, \n",
    "and each tickets has any number of ticket events associated with it, stored in \n",
    "\n",
    "(6) events,\n",
    "which include, for example, emails received, phone calls made etc.\n"
   ]
  },
  {
   "cell_type": "markdown",
   "metadata": {},
   "source": [
    "# Data\n",
    "____________________________\n",
    "\n",
    "There are six datasets:\n",
    "\n",
    "(1) users\n",
    "\n",
    "(2) businesses\n",
    "\n",
    "(3) campaigns\n",
    "\n",
    "(4) assets\n",
    "\n",
    "(5) tickets\n",
    "\n",
    "(6) events"
   ]
  },
  {
   "cell_type": "code",
   "execution_count": 7,
   "metadata": {
    "collapsed": false
   },
   "outputs": [],
   "source": [
    "#Load user data\n",
    "user = pd.read_csv('datasets/users.csv',sep=\",\")\n",
    "\n",
    "#Load business data\n",
    "businesses = pd.read_csv('datasets/businesses.csv',sep=\",\")\n",
    "\n",
    "#Load campaigns data\n",
    "campaigns = pd.read_csv('datasets/campaigns.csv',sep=\",\")\n",
    "\n",
    "#Load assets data\n",
    "assets = pd.read_csv('datasets/assets.csv',sep=\",\")\n",
    "\n",
    "#Load tickets data\n",
    "tickets = pd.read_csv('datasets/tickets.csv',sep=\",\")\n",
    "\n",
    "#Load user data\n",
    "events = pd.read_csv('datasets/events.csv',sep=\",\")"
   ]
  },
  {
   "cell_type": "code",
   "execution_count": 8,
   "metadata": {
    "collapsed": false
   },
   "outputs": [
    {
     "data": {
      "text/html": [
       "<div>\n",
       "<table border=\"1\" class=\"dataframe\">\n",
       "  <thead>\n",
       "    <tr style=\"text-align: right;\">\n",
       "      <th></th>\n",
       "      <th>id</th>\n",
       "      <th>email</th>\n",
       "      <th>user_type</th>\n",
       "      <th>first_name</th>\n",
       "      <th>last_name</th>\n",
       "      <th>password_hash</th>\n",
       "      <th>address_id</th>\n",
       "      <th>email_verified</th>\n",
       "      <th>residence_country</th>\n",
       "      <th>total_password_reset_count</th>\n",
       "      <th>...</th>\n",
       "      <th>last_token_login_date</th>\n",
       "      <th>last_known_uuid</th>\n",
       "      <th>arabic_first_name</th>\n",
       "      <th>arabic_last_name</th>\n",
       "      <th>no_marketing_emails</th>\n",
       "      <th>referral_source</th>\n",
       "      <th>user_locale</th>\n",
       "      <th>duplicate_of</th>\n",
       "      <th>create_date</th>\n",
       "      <th>update_date</th>\n",
       "    </tr>\n",
       "  </thead>\n",
       "  <tbody>\n",
       "  </tbody>\n",
       "</table>\n",
       "<p>0 rows × 29 columns</p>\n",
       "</div>"
      ],
      "text/plain": [
       "Empty DataFrame\n",
       "Columns: [id, email,  user_type                   ,  first_name                  ,  last_name                   ,  password_hash               ,  address_id                  ,  email_verified              ,  residence_country           ,  total_password_reset_count  ,  total_login_count           ,  total_forgot_password_count ,  last_login_date             ,  last_login_ip               ,  accepted_investor_tos       ,  registration_phone_number   ,  stripe_customer_id          ,  registration_reminder_date  ,  token_login_count           ,  last_token_login_date       ,  last_known_uuid             ,  arabic_first_name           ,  arabic_last_name            ,  no_marketing_emails         ,  referral_source             ,  user_locale                 ,  duplicate_of                ,  create_date                 ,  update_date ]\n",
       "Index: []\n",
       "\n",
       "[0 rows x 29 columns]"
      ]
     },
     "execution_count": 8,
     "metadata": {},
     "output_type": "execute_result"
    }
   ],
   "source": [
    "user.head()"
   ]
  },
  {
   "cell_type": "code",
   "execution_count": 9,
   "metadata": {
    "collapsed": false
   },
   "outputs": [
    {
     "data": {
      "text/html": [
       "<div>\n",
       "<table border=\"1\" class=\"dataframe\">\n",
       "  <thead>\n",
       "    <tr style=\"text-align: right;\">\n",
       "      <th></th>\n",
       "      <th>id</th>\n",
       "      <th>user_id</th>\n",
       "      <th>next_registration_step</th>\n",
       "      <th>business_name</th>\n",
       "      <th>business_city</th>\n",
       "      <th>business_phone</th>\n",
       "      <th>months_in_operation</th>\n",
       "      <th>business_description</th>\n",
       "      <th>skype_id</th>\n",
       "      <th>business_address</th>\n",
       "      <th>...</th>\n",
       "      <th>bounced_checks_number</th>\n",
       "      <th>has_checkbook</th>\n",
       "      <th>alternate_business_name</th>\n",
       "      <th>has_bank_account</th>\n",
       "      <th>business_annual_income_amount</th>\n",
       "      <th>number_of_employees</th>\n",
       "      <th>has_company_certificate</th>\n",
       "      <th>business_annual_income_currency</th>\n",
       "      <th>create_date</th>\n",
       "      <th>update_date</th>\n",
       "    </tr>\n",
       "  </thead>\n",
       "  <tbody>\n",
       "  </tbody>\n",
       "</table>\n",
       "<p>0 rows × 22 columns</p>\n",
       "</div>"
      ],
      "text/plain": [
       "Empty DataFrame\n",
       "Columns: [ id                              ,  user_id                         ,  next_registration_step          ,  business_name                   ,  business_city                   ,  business_phone                  ,  months_in_operation             ,  business_description            ,  skype_id                        ,  business_address                ,  is_blacklisted                  ,  has_bounced_checks              ,  bounced_checks_number           ,  has_checkbook                   ,  alternate_business_name         ,  has_bank_account                ,  business_annual_income_amount   ,  number_of_employees             ,  has_company_certificate         ,  business_annual_income_currency ,  create_date                     ,  update_date]\n",
       "Index: []\n",
       "\n",
       "[0 rows x 22 columns]"
      ]
     },
     "execution_count": 9,
     "metadata": {},
     "output_type": "execute_result"
    }
   ],
   "source": [
    "businesses.head()"
   ]
  },
  {
   "cell_type": "code",
   "execution_count": 10,
   "metadata": {
    "collapsed": false
   },
   "outputs": [
    {
     "data": {
      "text/html": [
       "<div>\n",
       "<table border=\"1\" class=\"dataframe\">\n",
       "  <thead>\n",
       "    <tr style=\"text-align: right;\">\n",
       "      <th></th>\n",
       "      <th>id</th>\n",
       "      <th>funding_goal_amount</th>\n",
       "      <th>pledged_funds_amount</th>\n",
       "      <th>is_approved</th>\n",
       "      <th>start_date</th>\n",
       "      <th>end_date</th>\n",
       "      <th>is_funded</th>\n",
       "      <th>business_id</th>\n",
       "      <th>asset_id</th>\n",
       "      <th>payment_interval_count</th>\n",
       "      <th>...</th>\n",
       "      <th>liwwa_fee</th>\n",
       "      <th>payment_interval_step</th>\n",
       "      <th>is_restructured</th>\n",
       "      <th>restructuring_date</th>\n",
       "      <th>signing_date</th>\n",
       "      <th>loan_currency</th>\n",
       "      <th>funding_goal_currency</th>\n",
       "      <th>pledged_funds_currency</th>\n",
       "      <th>create_date</th>\n",
       "      <th>update_date</th>\n",
       "    </tr>\n",
       "  </thead>\n",
       "  <tbody>\n",
       "  </tbody>\n",
       "</table>\n",
       "<p>0 rows × 37 columns</p>\n",
       "</div>"
      ],
      "text/plain": [
       "Empty DataFrame\n",
       "Columns: [ id                     ,  funding_goal_amount    ,  pledged_funds_amount   ,  is_approved            ,  start_date             ,  end_date               ,  is_funded              ,  business_id            ,  asset_id               ,  payment_interval_count ,  payment_interval_unit  ,  payment_grace_count    ,  is_repaid              ,  profit_rate            ,  payment_grace_unit     ,  photo_file_name        ,  funded_date            ,  risk_level             ,  business_score         ,  business_sector        ,  client_score           ,  collateral_score       ,  loan_type              ,  overall_score          ,  is_expired             ,  is_cancelled           ,  approval_date          ,  liwwa_fee              ,  payment_interval_step  ,  is_restructured        ,  restructuring_date     ,  signing_date           ,  loan_currency          ,  funding_goal_currency  ,  pledged_funds_currency ,  create_date            ,  update_date ]\n",
       "Index: []\n",
       "\n",
       "[0 rows x 37 columns]"
      ]
     },
     "execution_count": 10,
     "metadata": {},
     "output_type": "execute_result"
    }
   ],
   "source": [
    "campaigns.head()"
   ]
  },
  {
   "cell_type": "code",
   "execution_count": 11,
   "metadata": {
    "collapsed": false
   },
   "outputs": [
    {
     "data": {
      "text/html": [
       "<div>\n",
       "<table border=\"1\" class=\"dataframe\">\n",
       "  <thead>\n",
       "    <tr style=\"text-align: right;\">\n",
       "      <th></th>\n",
       "      <th>id</th>\n",
       "      <th>business_id</th>\n",
       "      <th>asset_description</th>\n",
       "      <th>asset_price_amount</th>\n",
       "      <th>asset_origin_store</th>\n",
       "      <th>why_this_asset</th>\n",
       "      <th>why_this_asset_arabic</th>\n",
       "      <th>asset_type</th>\n",
       "      <th>asset_price_currency</th>\n",
       "      <th>create_date</th>\n",
       "      <th>update_date</th>\n",
       "    </tr>\n",
       "  </thead>\n",
       "  <tbody>\n",
       "  </tbody>\n",
       "</table>\n",
       "</div>"
      ],
      "text/plain": [
       "Empty DataFrame\n",
       "Columns: [ id                    ,  business_id           ,  asset_description     ,  asset_price_amount    ,  asset_origin_store    ,  why_this_asset        ,  why_this_asset_arabic ,  asset_type            ,  asset_price_currency  ,  create_date           ,  update_date]\n",
       "Index: []"
      ]
     },
     "execution_count": 11,
     "metadata": {},
     "output_type": "execute_result"
    }
   ],
   "source": [
    "assets.head()"
   ]
  },
  {
   "cell_type": "code",
   "execution_count": 12,
   "metadata": {
    "collapsed": false
   },
   "outputs": [
    {
     "data": {
      "text/html": [
       "<div>\n",
       "<table border=\"1\" class=\"dataframe\">\n",
       "  <thead>\n",
       "    <tr style=\"text-align: right;\">\n",
       "      <th></th>\n",
       "      <th>id</th>\n",
       "      <th>user_id</th>\n",
       "      <th>ticket_status</th>\n",
       "      <th>ticket_owner_id</th>\n",
       "      <th>user_type</th>\n",
       "      <th>campaign_id</th>\n",
       "      <th>create_date</th>\n",
       "      <th>update_date</th>\n",
       "    </tr>\n",
       "  </thead>\n",
       "  <tbody>\n",
       "  </tbody>\n",
       "</table>\n",
       "</div>"
      ],
      "text/plain": [
       "Empty DataFrame\n",
       "Columns: [ id              ,  user_id         ,  ticket_status   ,  ticket_owner_id ,  user_type       ,  campaign_id     ,  create_date     ,  update_date ]\n",
       "Index: []"
      ]
     },
     "execution_count": 12,
     "metadata": {},
     "output_type": "execute_result"
    }
   ],
   "source": [
    "tickets.head()"
   ]
  },
  {
   "cell_type": "code",
   "execution_count": 13,
   "metadata": {
    "collapsed": false
   },
   "outputs": [
    {
     "data": {
      "text/html": [
       "<div>\n",
       "<table border=\"1\" class=\"dataframe\">\n",
       "  <thead>\n",
       "    <tr style=\"text-align: right;\">\n",
       "      <th></th>\n",
       "      <th>id</th>\n",
       "      <th>ticket_id</th>\n",
       "      <th>event_type</th>\n",
       "      <th>event_notes</th>\n",
       "      <th>event_initiator_id</th>\n",
       "      <th>event_metadata</th>\n",
       "      <th>edit_of</th>\n",
       "      <th>is_deleted</th>\n",
       "      <th>is_edited</th>\n",
       "      <th>create_date</th>\n",
       "      <th>update_date</th>\n",
       "    </tr>\n",
       "  </thead>\n",
       "  <tbody>\n",
       "    <tr>\n",
       "      <th>0</th>\n",
       "      <td>NaN</td>\n",
       "      <td>NaN</td>\n",
       "      <td>status_open</td>\n",
       "      <td>NaN</td>\n",
       "      <td>NaN</td>\n",
       "      <td>NaN</td>\n",
       "      <td>NaN</td>\n",
       "      <td>NaN</td>\n",
       "      <td>NaN</td>\n",
       "      <td>NaN</td>\n",
       "      <td>NaN</td>\n",
       "    </tr>\n",
       "    <tr>\n",
       "      <th>1</th>\n",
       "      <td>NaN</td>\n",
       "      <td>NaN</td>\n",
       "      <td>status_application_rejected</td>\n",
       "      <td>NaN</td>\n",
       "      <td>NaN</td>\n",
       "      <td>NaN</td>\n",
       "      <td>NaN</td>\n",
       "      <td>NaN</td>\n",
       "      <td>NaN</td>\n",
       "      <td>NaN</td>\n",
       "      <td>NaN</td>\n",
       "    </tr>\n",
       "    <tr>\n",
       "      <th>2</th>\n",
       "      <td>NaN</td>\n",
       "      <td>NaN</td>\n",
       "      <td>received_call</td>\n",
       "      <td>NaN</td>\n",
       "      <td>NaN</td>\n",
       "      <td>NaN</td>\n",
       "      <td>NaN</td>\n",
       "      <td>NaN</td>\n",
       "      <td>NaN</td>\n",
       "      <td>NaN</td>\n",
       "      <td>NaN</td>\n",
       "    </tr>\n",
       "    <tr>\n",
       "      <th>3</th>\n",
       "      <td>NaN</td>\n",
       "      <td>NaN</td>\n",
       "      <td>made_call</td>\n",
       "      <td>NaN</td>\n",
       "      <td>NaN</td>\n",
       "      <td>NaN</td>\n",
       "      <td>NaN</td>\n",
       "      <td>NaN</td>\n",
       "      <td>NaN</td>\n",
       "      <td>NaN</td>\n",
       "      <td>NaN</td>\n",
       "    </tr>\n",
       "    <tr>\n",
       "      <th>4</th>\n",
       "      <td>NaN</td>\n",
       "      <td>NaN</td>\n",
       "      <td>sent_more_data_email</td>\n",
       "      <td>NaN</td>\n",
       "      <td>NaN</td>\n",
       "      <td>NaN</td>\n",
       "      <td>NaN</td>\n",
       "      <td>NaN</td>\n",
       "      <td>NaN</td>\n",
       "      <td>NaN</td>\n",
       "      <td>NaN</td>\n",
       "    </tr>\n",
       "  </tbody>\n",
       "</table>\n",
       "</div>"
      ],
      "text/plain": [
       "    id                    ticket_id            \\\n",
       "0                   NaN                   NaN   \n",
       "1                   NaN                   NaN   \n",
       "2                   NaN                   NaN   \n",
       "3                   NaN                   NaN   \n",
       "4                   NaN                   NaN   \n",
       "\n",
       "                           event_type            event_notes          \\\n",
       "0   status_open                                                  NaN   \n",
       "1   status_application_rejected                                  NaN   \n",
       "2   received_call                                                NaN   \n",
       "3   made_call                                                    NaN   \n",
       "4   sent_more_data_email                                         NaN   \n",
       "\n",
       "    event_initiator_id    event_metadata        edit_of              \\\n",
       "0                   NaN                   NaN                   NaN   \n",
       "1                   NaN                   NaN                   NaN   \n",
       "2                   NaN                   NaN                   NaN   \n",
       "3                   NaN                   NaN                   NaN   \n",
       "4                   NaN                   NaN                   NaN   \n",
       "\n",
       "    is_deleted            is_edited             create_date          \\\n",
       "0                   NaN                   NaN                   NaN   \n",
       "1                   NaN                   NaN                   NaN   \n",
       "2                   NaN                   NaN                   NaN   \n",
       "3                   NaN                   NaN                   NaN   \n",
       "4                   NaN                   NaN                   NaN   \n",
       "\n",
       "    update_date    \n",
       "0             NaN  \n",
       "1             NaN  \n",
       "2             NaN  \n",
       "3             NaN  \n",
       "4             NaN  "
      ]
     },
     "execution_count": 13,
     "metadata": {},
     "output_type": "execute_result"
    }
   ],
   "source": [
    "events.head()"
   ]
  },
  {
   "cell_type": "markdown",
   "metadata": {
    "collapsed": true
   },
   "source": [
    "# Data Visualization\n",
    "____________________________\n"
   ]
  },
  {
   "cell_type": "markdown",
   "metadata": {},
   "source": [
    "# Model\n",
    "____________________________\n"
   ]
  },
  {
   "cell_type": "code",
   "execution_count": null,
   "metadata": {
    "collapsed": true
   },
   "outputs": [],
   "source": []
  }
 ],
 "metadata": {
  "anaconda-cloud": {},
  "kernelspec": {
   "display_name": "Python [Root]",
   "language": "python",
   "name": "Python [Root]"
  },
  "language_info": {
   "codemirror_mode": {
    "name": "ipython",
    "version": 2
   },
   "file_extension": ".py",
   "mimetype": "text/x-python",
   "name": "python",
   "nbconvert_exporter": "python",
   "pygments_lexer": "ipython2",
   "version": "2.7.12"
  }
 },
 "nbformat": 4,
 "nbformat_minor": 0
}
